{
 "cells": [
  {
   "cell_type": "code",
   "execution_count": 3,
   "metadata": {},
   "outputs": [],
   "source": [
    "import os"
   ]
  },
  {
   "cell_type": "code",
   "execution_count": 4,
   "metadata": {},
   "outputs": [
    {
     "data": {
      "text/plain": [
       "['bengali',\n",
       " 'chinese',\n",
       " 'english',\n",
       " 'french',\n",
       " 'german',\n",
       " 'hebrew',\n",
       " 'hindi',\n",
       " 'indonesian',\n",
       " 'italian',\n",
       " 'japanese',\n",
       " 'korean',\n",
       " 'marathi',\n",
       " 'oriya',\n",
       " 'persian',\n",
       " 'portuguese',\n",
       " 'russian',\n",
       " 'spanish',\n",
       " 'swedish',\n",
       " 'telugu',\n",
       " 'thai',\n",
       " 'traditionalchinese',\n",
       " 'turkish']"
      ]
     },
     "execution_count": 4,
     "metadata": {},
     "output_type": "execute_result"
    }
   ],
   "source": [
    "os.listdir('C:\\\\Users\\\\Shreyas S\\\\Desktop\\\\chatterbot-corpus-master\\\\chatterbot_corpus\\\\data')\n"
   ]
  },
  {
   "cell_type": "code",
   "execution_count": 5,
   "metadata": {},
   "outputs": [],
   "source": [
    "from chatterbot import ChatBot\n",
    "from chatterbot.trainers import ListTrainer\n",
    "import os"
   ]
  },
  {
   "cell_type": "code",
   "execution_count": 6,
   "metadata": {},
   "outputs": [],
   "source": [
    "kgp=ChatBot('Joey')"
   ]
  },
  {
   "cell_type": "code",
   "execution_count": 7,
   "metadata": {},
   "outputs": [],
   "source": [
    "kgp.set_trainer(ListTrainer)"
   ]
  },
  {
   "cell_type": "code",
   "execution_count": 8,
   "metadata": {},
   "outputs": [
    {
     "name": "stdout",
     "output_type": "stream",
     "text": [
      "List Trainer: [####################] 100%\n",
      "List Trainer: [####################] 100%\n",
      "List Trainer: [####################] 100%\n",
      "List Trainer: [####################] 100%\n",
      "List Trainer: [####################] 100%\n",
      "List Trainer: [####################] 100%\n",
      "List Trainer: [####################] 100%\n",
      "List Trainer: [####################] 100%\n",
      "List Trainer: [####################] 100%\n",
      "List Trainer: [####################] 100%\n",
      "List Trainer: [####################] 100%\n",
      "List Trainer: [####################] 100%\n",
      "List Trainer: [####################] 100%\n",
      "List Trainer: [####################] 100%\n",
      "List Trainer: [####################] 100%\n",
      "List Trainer: [####################] 100%\n",
      "List Trainer: [####################] 100%\n",
      "List Trainer: [####################] 100%\n",
      "List Trainer: [####################] 100%\n"
     ]
    }
   ],
   "source": [
    "for f in os.listdir('C:\\\\Users\\\\Shreyas S\\\\Desktop\\\\chatterbot-corpus-master\\\\chatterbot_corpus\\\\data\\\\english'):\n",
    "    data=open('C:\\\\Users\\\\Shreyas S\\\\Desktop\\\\chatterbot-corpus-master\\\\chatterbot_corpus\\\\data\\\\english\\\\'+f).readlines()\n",
    "    kgp.train(data)"
   ]
  },
  {
   "cell_type": "code",
   "execution_count": 9,
   "metadata": {},
   "outputs": [
    {
     "data": {
      "text/plain": [
       "<Statement text:what is data science>"
      ]
     },
     "execution_count": 9,
     "metadata": {},
     "output_type": "execute_result"
    }
   ],
   "source": [
    "kgp.get_response('what is ai')"
   ]
  },
  {
   "cell_type": "code",
   "execution_count": 10,
   "metadata": {},
   "outputs": [
    {
     "name": "stdout",
     "output_type": "stream",
     "text": [
      "You:hi\n",
      "Joey: How are you doing?\n",
      "You:iam good\n",
      "Joey: what are you doing\n",
      "You:it is good what about you\n",
      "Joey: who are you\n",
      "You:who are you\n",
      "Joey: who is virat kohli\n",
      "You:what is python\n",
      "Joey: hi\n",
      "You:ok bye\n",
      "Joey: i certainly do.\n",
      "You:no\n",
      "Joey: Should I be? Did something happen?\n",
      "You:no\n",
      "Joey: Should I be? Did something happen?\n",
      "You:nothing\n",
      "Joey: Or something\n",
      "You:nothing\n",
      "Joey: Or something\n",
      "You:nothing happen\n",
      "Joey: Or something\n",
      "You:who are you\n",
      "Joey: who is virat kohli\n",
      "You:you are worse\n",
      "Joey: i could always improve myself compared to the pack.\n",
      "You:what is chess\n",
      "Joey: the science of mixing chemicals.\n",
      "You:what is pictures\n",
      "Joey: Context is hard. It's hard, and no one understands.\n",
      "You:bye\n"
     ]
    }
   ],
   "source": [
    "while True:\n",
    "    ip=input('You:')\n",
    "    if ip=='bye' or ip=='Bye':\n",
    "        break\n",
    "    if ip!='bye' or ip!='Bye':\n",
    "        reply=kgp.get_response(ip)\n",
    "        print('Joey:',reply)"
   ]
  },
  {
   "cell_type": "code",
   "execution_count": null,
   "metadata": {},
   "outputs": [],
   "source": []
  },
  {
   "cell_type": "code",
   "execution_count": null,
   "metadata": {},
   "outputs": [],
   "source": []
  }
 ],
 "metadata": {
  "kernelspec": {
   "display_name": "Python 3",
   "language": "python",
   "name": "python3"
  },
  "language_info": {
   "codemirror_mode": {
    "name": "ipython",
    "version": 3
   },
   "file_extension": ".py",
   "mimetype": "text/x-python",
   "name": "python",
   "nbconvert_exporter": "python",
   "pygments_lexer": "ipython3",
   "version": "3.7.6"
  }
 },
 "nbformat": 4,
 "nbformat_minor": 4
}
